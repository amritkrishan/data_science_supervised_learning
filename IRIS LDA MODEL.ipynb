{
 "cells": [
  {
   "cell_type": "code",
   "execution_count": 3,
   "metadata": {},
   "outputs": [
    {
     "name": "stdout",
     "output_type": "stream",
     "text": [
      "Python : 3.8.3 (default, Jul  2 2020, 11:26:31) \n",
      "[Clang 10.0.0 ]\n",
      "scipy : 1.5.0\n",
      "numpy : 1.18.5\n",
      "matplotlib : 3.2.2\n",
      "pandas : 1.0.5\n",
      "sklearn : 0.23.1\n"
     ]
    }
   ],
   "source": [
    "import sys\n",
    "print('Python : {}'.format(sys.version))\n",
    "import scipy\n",
    "print('scipy : {}'.format(scipy.__version__))\n",
    "import numpy\n",
    "print('numpy : {}'.format(numpy.__version__))\n",
    "import matplotlib\n",
    "print('matplotlib : {}'.format(matplotlib.__version__))\n",
    "import pandas\n",
    "print('pandas : {}'.format(pandas.__version__))\n",
    "import sklearn\n",
    "print('sklearn : {}'.format(sklearn.__version__))"
   ]
  },
  {
   "cell_type": "code",
   "execution_count": 4,
   "metadata": {},
   "outputs": [],
   "source": [
    "import pandas\n",
    "from pandas.plotting import scatter_matrix\n",
    "import matplotlib.pyplot as plt\n",
    "from sklearn import model_selection\n",
    "from sklearn.metrics import classification_report\n",
    "from sklearn.metrics import confusion_matrix\n",
    "from sklearn.metrics import accuracy_score\n",
    "from sklearn.linear_model import LogisticRegression\n",
    "from sklearn.tree import DecisionTreeClassifier\n",
    "from sklearn.neighbors import KNeighborsClassifier\n",
    "from sklearn.discriminant_analysis import LinearDiscriminantAnalysis\n",
    "from sklearn.naive_bayes import GaussianNB\n",
    "from sklearn.svm import SVC"
   ]
  },
  {
   "cell_type": "code",
   "execution_count": 10,
   "metadata": {},
   "outputs": [],
   "source": [
    "url = \"https://archive.ics.uci.edu/ml/machine-learning-databases/iris/iris.data\"\n",
    "names = [\"sepal-length\",\"sepal-width\",\"petal-length\",\"class\"]\n",
    "dataset = pandas.read_csv(url, names=names)"
   ]
  },
  {
   "cell_type": "code",
   "execution_count": 11,
   "metadata": {},
   "outputs": [
    {
     "name": "stdout",
     "output_type": "stream",
     "text": [
      "(150, 4)\n"
     ]
    }
   ],
   "source": [
    "print(dataset.shape)"
   ]
  },
  {
   "cell_type": "code",
   "execution_count": null,
   "metadata": {},
   "outputs": [],
   "source": []
  },
  {
   "cell_type": "code",
   "execution_count": 12,
   "metadata": {},
   "outputs": [
    {
     "name": "stdout",
     "output_type": "stream",
     "text": [
      "     sepal-length  sepal-width  petal-length        class\n",
      "5.1           3.5          1.4           0.2  Iris-setosa\n",
      "4.9           3.0          1.4           0.2  Iris-setosa\n",
      "4.7           3.2          1.3           0.2  Iris-setosa\n",
      "4.6           3.1          1.5           0.2  Iris-setosa\n",
      "5.0           3.6          1.4           0.2  Iris-setosa\n",
      "5.4           3.9          1.7           0.4  Iris-setosa\n",
      "4.6           3.4          1.4           0.3  Iris-setosa\n",
      "5.0           3.4          1.5           0.2  Iris-setosa\n",
      "4.4           2.9          1.4           0.2  Iris-setosa\n",
      "4.9           3.1          1.5           0.1  Iris-setosa\n",
      "5.4           3.7          1.5           0.2  Iris-setosa\n",
      "4.8           3.4          1.6           0.2  Iris-setosa\n",
      "4.8           3.0          1.4           0.1  Iris-setosa\n",
      "4.3           3.0          1.1           0.1  Iris-setosa\n",
      "5.8           4.0          1.2           0.2  Iris-setosa\n",
      "5.7           4.4          1.5           0.4  Iris-setosa\n",
      "5.4           3.9          1.3           0.4  Iris-setosa\n",
      "5.1           3.5          1.4           0.3  Iris-setosa\n",
      "5.7           3.8          1.7           0.3  Iris-setosa\n",
      "5.1           3.8          1.5           0.3  Iris-setosa\n",
      "5.4           3.4          1.7           0.2  Iris-setosa\n",
      "5.1           3.7          1.5           0.4  Iris-setosa\n",
      "4.6           3.6          1.0           0.2  Iris-setosa\n",
      "5.1           3.3          1.7           0.5  Iris-setosa\n",
      "4.8           3.4          1.9           0.2  Iris-setosa\n",
      "5.0           3.0          1.6           0.2  Iris-setosa\n",
      "5.0           3.4          1.6           0.4  Iris-setosa\n",
      "5.2           3.5          1.5           0.2  Iris-setosa\n",
      "5.2           3.4          1.4           0.2  Iris-setosa\n",
      "4.7           3.2          1.6           0.2  Iris-setosa\n"
     ]
    }
   ],
   "source": [
    "print(dataset.head(30))"
   ]
  },
  {
   "cell_type": "code",
   "execution_count": 14,
   "metadata": {},
   "outputs": [
    {
     "name": "stdout",
     "output_type": "stream",
     "text": [
      "       sepal-length  sepal-width  petal-length\n",
      "count    150.000000   150.000000    150.000000\n",
      "mean       3.054000     3.758667      1.198667\n",
      "std        0.433594     1.764420      0.763161\n",
      "min        2.000000     1.000000      0.100000\n",
      "25%        2.800000     1.600000      0.300000\n",
      "50%        3.000000     4.350000      1.300000\n",
      "75%        3.300000     5.100000      1.800000\n",
      "max        4.400000     6.900000      2.500000\n"
     ]
    }
   ],
   "source": [
    "print(dataset.describe())"
   ]
  },
  {
   "cell_type": "code",
   "execution_count": 15,
   "metadata": {},
   "outputs": [
    {
     "name": "stdout",
     "output_type": "stream",
     "text": [
      "class\n",
      "Iris-setosa        50\n",
      "Iris-versicolor    50\n",
      "Iris-virginica     50\n",
      "dtype: int64\n"
     ]
    }
   ],
   "source": [
    "print(dataset.groupby('class').size())"
   ]
  },
  {
   "cell_type": "code",
   "execution_count": 20,
   "metadata": {},
   "outputs": [
    {
     "data": {
      "image/png": "[encoded data removed]",
      "text/plain": [
       "<Figure size 432x288 with 4 Axes>"
      ]
     },
     "metadata": {
      "needs_background": "light"
     },
     "output_type": "display_data"
    }
   ],
   "source": [
    "dataset.plot(kind='box', subplots=True, layout=(2,2), sharex=False, sharey=False)\n",
    "plt.show()"
   ]
  },
  {
   "cell_type": "code",
   "execution_count": 21,
   "metadata": {},
   "outputs": [
    {
     "data": {
      "image/png": "[encoded data removed]",
      "text/plain": [
       "<Figure size 432x288 with 4 Axes>"
      ]
     },
     "metadata": {
      "needs_background": "light"
     },
     "output_type": "display_data"
    }
   ],
   "source": [
    "dataset.hist()\n",
    "plt.show()"
   ]
  },
  {
   "cell_type": "code",
   "execution_count": 22,
   "metadata": {},
   "outputs": [
    {
     "data": {
      "image/png": "[encoded data removed]",
      "text/plain": [
       "<Figure size 432x288 with 9 Axes>"
      ]
     },
     "metadata": {
      "needs_background": "light"
     },
     "output_type": "display_data"
    }
   ],
   "source": [
    "scatter_matrix(dataset)\n",
    "plt.show()"
   ]
  },
  {
   "cell_type": "code",
   "execution_count": 25,
   "metadata": {},
   "outputs": [],
   "source": [
    "array=dataset.values\n",
    "X = array[:,0:3]\n",
    "Y = array[:,3]\n",
    "validation_size=0.20\n",
    "seed=6\n",
    "X_train, X_test, Y_train, Y_test = model_selection.train_test_split(X, Y, test_size=validation_size, random_state=seed)"
   ]
  },
  {
   "cell_type": "code",
   "execution_count": 31,
   "metadata": {},
   "outputs": [],
   "source": [
    "seed = 6\n",
    "scoring = 'accuracy'"
   ]
  },
  {
   "cell_type": "code",
   "execution_count": 28,
   "metadata": {},
   "outputs": [
    {
     "name": "stderr",
     "output_type": "stream",
     "text": [
      "/Applications/anaconda3/lib/python3.8/site-packages/sklearn/model_selection/_split.py:293: FutureWarning: Setting a random_state has no effect since shuffle is False. This will raise an error in 0.24. You should leave random_state to its default (None), or set shuffle=True.\n",
      "  warnings.warn(\n",
      "/Applications/anaconda3/lib/python3.8/site-packages/sklearn/model_selection/_split.py:293: FutureWarning: Setting a random_state has no effect since shuffle is False. This will raise an error in 0.24. You should leave random_state to its default (None), or set shuffle=True.\n",
      "  warnings.warn(\n",
      "/Applications/anaconda3/lib/python3.8/site-packages/sklearn/model_selection/_split.py:293: FutureWarning: Setting a random_state has no effect since shuffle is False. This will raise an error in 0.24. You should leave random_state to its default (None), or set shuffle=True.\n",
      "  warnings.warn(\n"
     ]
    },
    {
     "name": "stdout",
     "output_type": "stream",
     "text": [
      "LR : 0.950000 (0.076376) \n",
      "LDA : 0.975000 (0.038188) \n",
      "KNN : 0.966667 (0.055277) \n",
      "CART : 0.966667 (0.040825) \n",
      "NB : 0.966667 (0.055277) \n",
      "SVM : 0.958333 (0.055902) \n"
     ]
    },
    {
     "name": "stderr",
     "output_type": "stream",
     "text": [
      "/Applications/anaconda3/lib/python3.8/site-packages/sklearn/model_selection/_split.py:293: FutureWarning: Setting a random_state has no effect since shuffle is False. This will raise an error in 0.24. You should leave random_state to its default (None), or set shuffle=True.\n",
      "  warnings.warn(\n",
      "/Applications/anaconda3/lib/python3.8/site-packages/sklearn/model_selection/_split.py:293: FutureWarning: Setting a random_state has no effect since shuffle is False. This will raise an error in 0.24. You should leave random_state to its default (None), or set shuffle=True.\n",
      "  warnings.warn(\n",
      "/Applications/anaconda3/lib/python3.8/site-packages/sklearn/model_selection/_split.py:293: FutureWarning: Setting a random_state has no effect since shuffle is False. This will raise an error in 0.24. You should leave random_state to its default (None), or set shuffle=True.\n",
      "  warnings.warn(\n"
     ]
    }
   ],
   "source": [
    "models = []\n",
    "models.append(('LR', LogisticRegression()))\n",
    "models.append(('LDA', LinearDiscriminantAnalysis()))\n",
    "models.append(('KNN', KNeighborsClassifier()))\n",
    "models.append(('CART', DecisionTreeClassifier()))\n",
    "models.append(('NB', GaussianNB()))\n",
    "models.append(('SVM', SVC()))\n",
    "#evaluate model in each turn\n",
    "results=[]\n",
    "names=[]\n",
    "for name, model in models:\n",
    "    kfold=model_selection.KFold(n_splits=10,random_state=seed)\n",
    "    cv_results=model_selection.cross_val_score(model, X_train, Y_train, cv=kfold, scoring=scoring)\n",
    "    results.append(cv_results)\n",
    "    names.append(name)\n",
    "    msg=\"%s : %f (%f) \" % (name, cv_results.mean(), cv_results.std())\n",
    "    print(msg)"
   ]
  }
 ],
 "metadata": {
  "kernelspec": {
   "display_name": "Python 3",
   "language": "python",
   "name": "python3"
  },
  "language_info": {
   "codemirror_mode": {
    "name": "ipython",
    "version": 3
   },
   "file_extension": ".py",
   "mimetype": "text/x-python",
   "name": "python",
   "nbconvert_exporter": "python",
   "pygments_lexer": "ipython3",
   "version": "3.8.3"
  }
 },
 "nbformat": 4,
 "nbformat_minor": 4
}
